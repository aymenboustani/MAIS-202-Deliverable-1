{
  "nbformat": 4,
  "nbformat_minor": 0,
  "metadata": {
    "colab": {
      "name": "song_suggester_cosine.ipynb",
      "provenance": [],
      "collapsed_sections": [
        "Hbsmy7ut0qtY"
      ]
    },
    "kernelspec": {
      "name": "python3",
      "display_name": "Python 3"
    },
    "language_info": {
      "name": "python"
    }
  },
  "cells": [
    {
      "cell_type": "markdown",
      "metadata": {
        "id": "u9h_EZcneHOd"
      },
      "source": [
        "\n",
        "\n",
        "# **Spotify Song Suggester using Cosine Similarity**\n",
        "\n",
        "\n",
        "\n",
        "\n",
        "\n",
        "\n"
      ]
    },
    {
      "cell_type": "markdown",
      "metadata": {
        "id": "o_npGkQ2CaNy"
      },
      "source": [
        "#Imports"
      ]
    },
    {
      "cell_type": "code",
      "metadata": {
        "id": "EOa6RP56CVRH"
      },
      "source": [
        "import pandas as pd\n",
        "import numpy as np\n",
        "from sklearn import preprocessing as pre\n",
        "from sklearn.metrics.pairwise import cosine_similarity as cs"
      ],
      "execution_count": null,
      "outputs": []
    },
    {
      "cell_type": "markdown",
      "metadata": {
        "id": "NmaxptH2el17"
      },
      "source": [
        "# Preprocessing"
      ]
    },
    {
      "cell_type": "code",
      "metadata": {
        "id": "gaxVYPUaCtKk"
      },
      "source": [
        "#importing files\n",
        "full_data = pd.read_csv(\"https://raw.githubusercontent.com/aymenboustani/MAIS-202-Deliverable-1/main/data/data.csv\")\n",
        "metadata = pd.DataFrame({'popularity': full_data['popularity'], 'id': full_data[\"id\"], \n",
        "                         'release_date': full_data[\"release_date\"], 'year': full_data[\"year\"], \n",
        "                         'explicit': full_data[\"explicit\"],'song_title': full_data[\"name\"].str.lower()})\n",
        "full_data = full_data.drop(columns = ['key', 'release_date','popularity','year','explicit'])"
      ],
      "execution_count": null,
      "outputs": []
    },
    {
      "cell_type": "code",
      "metadata": {
        "colab": {
          "base_uri": "https://localhost:8080/",
          "height": 590
        },
        "id": "OYq5ZzyVDJZL",
        "outputId": "928c9b1b-5da1-40c6-8f69-692a592880db"
      },
      "source": [
        "#view some of the data\n",
        "full_data"
      ],
      "execution_count": null,
      "outputs": [
        {
          "output_type": "execute_result",
          "data": {
            "text/html": [
              "<div>\n",
              "<style scoped>\n",
              "    .dataframe tbody tr th:only-of-type {\n",
              "        vertical-align: middle;\n",
              "    }\n",
              "\n",
              "    .dataframe tbody tr th {\n",
              "        vertical-align: top;\n",
              "    }\n",
              "\n",
              "    .dataframe thead th {\n",
              "        text-align: right;\n",
              "    }\n",
              "</style>\n",
              "<table border=\"1\" class=\"dataframe\">\n",
              "  <thead>\n",
              "    <tr style=\"text-align: right;\">\n",
              "      <th></th>\n",
              "      <th>acousticness</th>\n",
              "      <th>artists</th>\n",
              "      <th>danceability</th>\n",
              "      <th>duration_ms</th>\n",
              "      <th>energy</th>\n",
              "      <th>id</th>\n",
              "      <th>instrumentalness</th>\n",
              "      <th>liveness</th>\n",
              "      <th>loudness</th>\n",
              "      <th>mode</th>\n",
              "      <th>name</th>\n",
              "      <th>speechiness</th>\n",
              "      <th>tempo</th>\n",
              "      <th>valence</th>\n",
              "    </tr>\n",
              "  </thead>\n",
              "  <tbody>\n",
              "    <tr>\n",
              "      <th>0</th>\n",
              "      <td>0.991000</td>\n",
              "      <td>['Mamie Smith']</td>\n",
              "      <td>0.598</td>\n",
              "      <td>168333</td>\n",
              "      <td>0.224</td>\n",
              "      <td>0cS0A1fUEUd1EW3FcF8AEI</td>\n",
              "      <td>0.000522</td>\n",
              "      <td>0.3790</td>\n",
              "      <td>-12.628</td>\n",
              "      <td>0</td>\n",
              "      <td>Keep A Song In Your Soul</td>\n",
              "      <td>0.0936</td>\n",
              "      <td>149.976</td>\n",
              "      <td>0.6340</td>\n",
              "    </tr>\n",
              "    <tr>\n",
              "      <th>1</th>\n",
              "      <td>0.643000</td>\n",
              "      <td>[\"Screamin' Jay Hawkins\"]</td>\n",
              "      <td>0.852</td>\n",
              "      <td>150200</td>\n",
              "      <td>0.517</td>\n",
              "      <td>0hbkKFIJm7Z05H8Zl9w30f</td>\n",
              "      <td>0.026400</td>\n",
              "      <td>0.0809</td>\n",
              "      <td>-7.261</td>\n",
              "      <td>0</td>\n",
              "      <td>I Put A Spell On You</td>\n",
              "      <td>0.0534</td>\n",
              "      <td>86.889</td>\n",
              "      <td>0.9500</td>\n",
              "    </tr>\n",
              "    <tr>\n",
              "      <th>2</th>\n",
              "      <td>0.993000</td>\n",
              "      <td>['Mamie Smith']</td>\n",
              "      <td>0.647</td>\n",
              "      <td>163827</td>\n",
              "      <td>0.186</td>\n",
              "      <td>11m7laMUgmOKqI3oYzuhne</td>\n",
              "      <td>0.000018</td>\n",
              "      <td>0.5190</td>\n",
              "      <td>-12.098</td>\n",
              "      <td>1</td>\n",
              "      <td>Golfing Papa</td>\n",
              "      <td>0.1740</td>\n",
              "      <td>97.600</td>\n",
              "      <td>0.6890</td>\n",
              "    </tr>\n",
              "    <tr>\n",
              "      <th>3</th>\n",
              "      <td>0.000173</td>\n",
              "      <td>['Oscar Velazquez']</td>\n",
              "      <td>0.730</td>\n",
              "      <td>422087</td>\n",
              "      <td>0.798</td>\n",
              "      <td>19Lc5SfJJ5O1oaxY0fpwfh</td>\n",
              "      <td>0.801000</td>\n",
              "      <td>0.1280</td>\n",
              "      <td>-7.311</td>\n",
              "      <td>1</td>\n",
              "      <td>True House Music - Xavier Santos &amp; Carlos Gomi...</td>\n",
              "      <td>0.0425</td>\n",
              "      <td>127.997</td>\n",
              "      <td>0.0422</td>\n",
              "    </tr>\n",
              "    <tr>\n",
              "      <th>4</th>\n",
              "      <td>0.295000</td>\n",
              "      <td>['Mixe']</td>\n",
              "      <td>0.704</td>\n",
              "      <td>165224</td>\n",
              "      <td>0.707</td>\n",
              "      <td>2hJjbsLCytGsnAHfdsLejp</td>\n",
              "      <td>0.000246</td>\n",
              "      <td>0.4020</td>\n",
              "      <td>-6.036</td>\n",
              "      <td>0</td>\n",
              "      <td>Xuniverxe</td>\n",
              "      <td>0.0768</td>\n",
              "      <td>122.076</td>\n",
              "      <td>0.2990</td>\n",
              "    </tr>\n",
              "    <tr>\n",
              "      <th>...</th>\n",
              "      <td>...</td>\n",
              "      <td>...</td>\n",
              "      <td>...</td>\n",
              "      <td>...</td>\n",
              "      <td>...</td>\n",
              "      <td>...</td>\n",
              "      <td>...</td>\n",
              "      <td>...</td>\n",
              "      <td>...</td>\n",
              "      <td>...</td>\n",
              "      <td>...</td>\n",
              "      <td>...</td>\n",
              "      <td>...</td>\n",
              "      <td>...</td>\n",
              "    </tr>\n",
              "    <tr>\n",
              "      <th>174384</th>\n",
              "      <td>0.009170</td>\n",
              "      <td>['DJ Combo', 'Sander-7', 'Tony T']</td>\n",
              "      <td>0.792</td>\n",
              "      <td>147615</td>\n",
              "      <td>0.866</td>\n",
              "      <td>46LhBf6TvYjZU2SMvGZAbn</td>\n",
              "      <td>0.000060</td>\n",
              "      <td>0.1780</td>\n",
              "      <td>-5.089</td>\n",
              "      <td>0</td>\n",
              "      <td>The One</td>\n",
              "      <td>0.0356</td>\n",
              "      <td>125.972</td>\n",
              "      <td>0.1860</td>\n",
              "    </tr>\n",
              "    <tr>\n",
              "      <th>174385</th>\n",
              "      <td>0.795000</td>\n",
              "      <td>['Alessia Cara']</td>\n",
              "      <td>0.429</td>\n",
              "      <td>144720</td>\n",
              "      <td>0.211</td>\n",
              "      <td>7tue2Wemjd0FZzRtDrQFZd</td>\n",
              "      <td>0.000000</td>\n",
              "      <td>0.1960</td>\n",
              "      <td>-11.665</td>\n",
              "      <td>1</td>\n",
              "      <td>A Little More</td>\n",
              "      <td>0.0360</td>\n",
              "      <td>94.710</td>\n",
              "      <td>0.2280</td>\n",
              "    </tr>\n",
              "    <tr>\n",
              "      <th>174386</th>\n",
              "      <td>0.806000</td>\n",
              "      <td>['Roger Fly']</td>\n",
              "      <td>0.671</td>\n",
              "      <td>218147</td>\n",
              "      <td>0.589</td>\n",
              "      <td>48Qj61hOdYmUCFJbpQ29Ob</td>\n",
              "      <td>0.920000</td>\n",
              "      <td>0.1130</td>\n",
              "      <td>-12.393</td>\n",
              "      <td>0</td>\n",
              "      <td>Together</td>\n",
              "      <td>0.0282</td>\n",
              "      <td>108.058</td>\n",
              "      <td>0.7140</td>\n",
              "    </tr>\n",
              "    <tr>\n",
              "      <th>174387</th>\n",
              "      <td>0.920000</td>\n",
              "      <td>['Taylor Swift']</td>\n",
              "      <td>0.462</td>\n",
              "      <td>244000</td>\n",
              "      <td>0.240</td>\n",
              "      <td>1gcyHQpBQ1lfXGdhZmWrHP</td>\n",
              "      <td>0.000000</td>\n",
              "      <td>0.1130</td>\n",
              "      <td>-12.077</td>\n",
              "      <td>1</td>\n",
              "      <td>champagne problems</td>\n",
              "      <td>0.0377</td>\n",
              "      <td>171.319</td>\n",
              "      <td>0.3200</td>\n",
              "    </tr>\n",
              "    <tr>\n",
              "      <th>174388</th>\n",
              "      <td>0.239000</td>\n",
              "      <td>['Roger Fly']</td>\n",
              "      <td>0.677</td>\n",
              "      <td>197710</td>\n",
              "      <td>0.460</td>\n",
              "      <td>57tgYkWQTNHVFEt6xDKKZj</td>\n",
              "      <td>0.891000</td>\n",
              "      <td>0.2150</td>\n",
              "      <td>-12.237</td>\n",
              "      <td>1</td>\n",
              "      <td>Improvisations</td>\n",
              "      <td>0.0258</td>\n",
              "      <td>112.208</td>\n",
              "      <td>0.7470</td>\n",
              "    </tr>\n",
              "  </tbody>\n",
              "</table>\n",
              "<p>174389 rows × 14 columns</p>\n",
              "</div>"
            ],
            "text/plain": [
              "        acousticness                             artists  ...    tempo  valence\n",
              "0           0.991000                     ['Mamie Smith']  ...  149.976   0.6340\n",
              "1           0.643000           [\"Screamin' Jay Hawkins\"]  ...   86.889   0.9500\n",
              "2           0.993000                     ['Mamie Smith']  ...   97.600   0.6890\n",
              "3           0.000173                 ['Oscar Velazquez']  ...  127.997   0.0422\n",
              "4           0.295000                            ['Mixe']  ...  122.076   0.2990\n",
              "...              ...                                 ...  ...      ...      ...\n",
              "174384      0.009170  ['DJ Combo', 'Sander-7', 'Tony T']  ...  125.972   0.1860\n",
              "174385      0.795000                    ['Alessia Cara']  ...   94.710   0.2280\n",
              "174386      0.806000                       ['Roger Fly']  ...  108.058   0.7140\n",
              "174387      0.920000                    ['Taylor Swift']  ...  171.319   0.3200\n",
              "174388      0.239000                       ['Roger Fly']  ...  112.208   0.7470\n",
              "\n",
              "[174389 rows x 14 columns]"
            ]
          },
          "metadata": {
            "tags": []
          },
          "execution_count": 51
        }
      ]
    },
    {
      "cell_type": "code",
      "metadata": {
        "colab": {
          "base_uri": "https://localhost:8080/"
        },
        "id": "EMiJ7nqQEHhZ",
        "outputId": "6cdb3451-af6e-481e-a1ec-3aa34ef4cc0c"
      },
      "source": [
        "songset = full_data.copy()\n",
        "songset = songset.drop(columns=['artists','name'])\n",
        "songset = songset[['id','acousticness','danceability','duration_ms','energy','instrumentalness','liveness','loudness','mode','speechiness','tempo','valence']]\n",
        "songset.iloc[:,1:]\n",
        "x = pre.MinMaxScaler().fit_transform(songset.iloc[:,1:])\n",
        "x"
      ],
      "execution_count": null,
      "outputs": [
        {
          "output_type": "execute_result",
          "data": {
            "text/plain": [
              "array([[0.99497992, 0.60526316, 0.03063657, ..., 0.09639547, 0.61590016,\n",
              "        0.634     ],\n",
              "       [0.64558233, 0.86234818, 0.02723665, ..., 0.05499485, 0.35682342,\n",
              "        0.95      ],\n",
              "       [0.99698795, 0.6548583 , 0.0297917 , ..., 0.1791967 , 0.40080983,\n",
              "        0.689     ],\n",
              "       ...,\n",
              "       [0.80923695, 0.6791498 , 0.03997664, ..., 0.02904222, 0.44375726,\n",
              "        0.714     ],\n",
              "       [0.92369478, 0.46761134, 0.04482405, ..., 0.03882595, 0.70354856,\n",
              "        0.32      ],\n",
              "       [0.23995984, 0.68522267, 0.03614472, ..., 0.02657055, 0.46079989,\n",
              "        0.747     ]])"
            ]
          },
          "metadata": {
            "tags": []
          },
          "execution_count": 3
        }
      ]
    },
    {
      "cell_type": "markdown",
      "metadata": {
        "id": "AsEaSELHia7M"
      },
      "source": [
        "### helper function"
      ]
    },
    {
      "cell_type": "code",
      "metadata": {
        "id": "cWkC5tcJSPu_"
      },
      "source": [
        "#input an ID and it returns the index of corresponding song in the dataset\n",
        "def searchbyID(ID):\n",
        "  for i in range(len(full_data)):\n",
        "    #print(full_data.iloc[20128,5])\n",
        "    if full_data.iloc[i,5] == ID:\n",
        "      return i\n",
        "  return -1"
      ],
      "execution_count": null,
      "outputs": []
    },
    {
      "cell_type": "markdown",
      "metadata": {
        "id": "j7Y80wGuioaT"
      },
      "source": [
        "## Input song IDs in the function to find similar songs"
      ]
    },
    {
      "cell_type": "code",
      "metadata": {
        "colab": {
          "base_uri": "https://localhost:8080/",
          "height": 106
        },
        "id": "krPWqkdMIgzK",
        "outputId": "9ce9d3aa-47a5-48fc-8fb5-68e45c047cd2"
      },
      "source": [
        "\n",
        "\n",
        "# input ids of which you want to find similar songs to; and this outputs IDs of similar songs\n",
        "def findSimilarSongs(songIDs):\n",
        "  indices = []\n",
        "  for ID in songIDs:\n",
        "    indices.append(searchbyID(ID))\n",
        "\n",
        "  sum = 0\n",
        "  for index in indices:\n",
        "    sum += x[index]\n",
        "\n",
        "  meanvector = sum/len(indices)\n",
        "  meanvector = np.array(meanvector).reshape(1,-1)\n",
        "\n",
        "\n",
        "  similarity_vals = cs(x, meanvector)\n",
        "\n",
        "  similar_songs_index = []\n",
        "  for i in range(len(similarity_vals)):\n",
        "    if similarity_vals[i] > 0.999:\n",
        "      similar_songs_index.append(i)\n",
        "\n",
        "  similar_songs_IDs = []\n",
        "  for song_id in full_data.iloc[similar_songs_index]['id']:\n",
        "    \n",
        "    similar_songs_IDs.append(song_id)\n",
        "  \n",
        "  return similar_songs_IDs \n"
      ],
      "execution_count": null,
      "outputs": [
        {
          "output_type": "execute_result",
          "data": {
            "application/vnd.google.colaboratory.intrinsic+json": {
              "type": "string"
            },
            "text/plain": [
              "'\\nmeanvector =  x[-2] #champagne problems taylor swift\\nmeanvector = np.array(meanvector).reshape(1,-1)\\n# meanvector = meanvector.reshape(1, -1)\\n# def get_similar_vectors(remaining_dataset, avg_vector, how_many):\\n#   similar_vector_uid = []\\n#   uids = remaining_dataset[:,[0]]\\n#   vecs = np.delete(remaining_dataset, 0, 1)\\n#   similarity_vals = cs(vecs, avg_vector)\\n#   similarity_with_uid = np.concatenate(uids, similarity_vals)\\n#   sorted_array = similarity_with_uid[numpy.argsort(similarity_with_uid[:, 1])]\\n#   return np.delete(sorted_array[(-1*how_many)-1:-1], 0, 1)\\n\\n# x.shape\\nsimilarity_vals = cs(x, meanvector)\\n\\ncommon = []\\nfor i in range(len(similarity_vals)):\\n  if similarity_vals[i] > 0.999:\\n    common.append(i)\\nprint(common)\\n'"
            ]
          },
          "metadata": {
            "tags": []
          },
          "execution_count": 10
        }
      ]
    },
    {
      "cell_type": "markdown",
      "metadata": {
        "id": "ETFNcZ1QjHWM"
      },
      "source": [
        "### Testing the code: inputed 3 different song IDs and look at the similar ones"
      ]
    },
    {
      "cell_type": "code",
      "metadata": {
        "colab": {
          "base_uri": "https://localhost:8080/"
        },
        "id": "kdqvxnQ3V0q6",
        "outputId": "79ed4ffd-110b-4a5f-fb7e-1540672ad63a"
      },
      "source": [
        "\n",
        "findSimilarSongs(['0sY6ZUTh4yoctD8VIXz339','78DwRIo6Vj6wqteyerGetr','1gcyHQpBQ1lfXGdhZmWrHP'])"
      ],
      "execution_count": null,
      "outputs": [
        {
          "output_type": "execute_result",
          "data": {
            "text/plain": [
              "['1SecSXFtyYktKYc0qimTmw',\n",
              " '0sY6ZUTh4yoctD8VIXz339',\n",
              " '2EliNOReCRCe1ynR6G8yeT',\n",
              " '7u17w29WWTiftzGHs8rhpw',\n",
              " '78DwRIo6Vj6wqteyerGetr',\n",
              " '2fWVXXNvMNBbqhAiQCdZ2Z',\n",
              " '73e4ndrkfGIxqXAWm9PFvx',\n",
              " '6rap8NpGq8LDcVaJWkKFPn',\n",
              " '1gcyHQpBQ1lfXGdhZmWrHP']"
            ]
          },
          "metadata": {
            "tags": []
          },
          "execution_count": 6
        }
      ]
    },
    {
      "cell_type": "code",
      "metadata": {
        "colab": {
          "base_uri": "https://localhost:8080/",
          "height": 534
        },
        "id": "f3S_aUuuOfI9",
        "outputId": "b1cec731-4511-4d58-ac40-fb2f976ea106"
      },
      "source": [
        "full_data.iloc[common]"
      ],
      "execution_count": null,
      "outputs": [
        {
          "output_type": "execute_result",
          "data": {
            "text/html": [
              "<div>\n",
              "<style scoped>\n",
              "    .dataframe tbody tr th:only-of-type {\n",
              "        vertical-align: middle;\n",
              "    }\n",
              "\n",
              "    .dataframe tbody tr th {\n",
              "        vertical-align: top;\n",
              "    }\n",
              "\n",
              "    .dataframe thead th {\n",
              "        text-align: right;\n",
              "    }\n",
              "</style>\n",
              "<table border=\"1\" class=\"dataframe\">\n",
              "  <thead>\n",
              "    <tr style=\"text-align: right;\">\n",
              "      <th></th>\n",
              "      <th>acousticness</th>\n",
              "      <th>artists</th>\n",
              "      <th>danceability</th>\n",
              "      <th>duration_ms</th>\n",
              "      <th>energy</th>\n",
              "      <th>id</th>\n",
              "      <th>instrumentalness</th>\n",
              "      <th>liveness</th>\n",
              "      <th>loudness</th>\n",
              "      <th>mode</th>\n",
              "      <th>name</th>\n",
              "      <th>speechiness</th>\n",
              "      <th>tempo</th>\n",
              "      <th>valence</th>\n",
              "    </tr>\n",
              "  </thead>\n",
              "  <tbody>\n",
              "    <tr>\n",
              "      <th>5113</th>\n",
              "      <td>0.939</td>\n",
              "      <td>['Ethel Merman', 'Robert Middleton', 'Marty Ma...</td>\n",
              "      <td>0.418</td>\n",
              "      <td>194400</td>\n",
              "      <td>0.225</td>\n",
              "      <td>1SecSXFtyYktKYc0qimTmw</td>\n",
              "      <td>0.000000</td>\n",
              "      <td>0.1380</td>\n",
              "      <td>-11.651</td>\n",
              "      <td>1</td>\n",
              "      <td>Moonshine Lullaby</td>\n",
              "      <td>0.0587</td>\n",
              "      <td>168.349</td>\n",
              "      <td>0.326</td>\n",
              "    </tr>\n",
              "    <tr>\n",
              "      <th>19922</th>\n",
              "      <td>0.920</td>\n",
              "      <td>['Taylor Swift']</td>\n",
              "      <td>0.462</td>\n",
              "      <td>244000</td>\n",
              "      <td>0.240</td>\n",
              "      <td>0sY6ZUTh4yoctD8VIXz339</td>\n",
              "      <td>0.000000</td>\n",
              "      <td>0.1130</td>\n",
              "      <td>-12.077</td>\n",
              "      <td>1</td>\n",
              "      <td>champagne problems</td>\n",
              "      <td>0.0377</td>\n",
              "      <td>171.319</td>\n",
              "      <td>0.320</td>\n",
              "    </tr>\n",
              "    <tr>\n",
              "      <th>20128</th>\n",
              "      <td>0.921</td>\n",
              "      <td>['Taylor Swift']</td>\n",
              "      <td>0.462</td>\n",
              "      <td>244000</td>\n",
              "      <td>0.242</td>\n",
              "      <td>2EliNOReCRCe1ynR6G8yeT</td>\n",
              "      <td>0.000000</td>\n",
              "      <td>0.1130</td>\n",
              "      <td>-12.077</td>\n",
              "      <td>1</td>\n",
              "      <td>champagne problems</td>\n",
              "      <td>0.0376</td>\n",
              "      <td>171.352</td>\n",
              "      <td>0.320</td>\n",
              "    </tr>\n",
              "    <tr>\n",
              "      <th>26867</th>\n",
              "      <td>0.905</td>\n",
              "      <td>['Ray Charles']</td>\n",
              "      <td>0.483</td>\n",
              "      <td>197173</td>\n",
              "      <td>0.187</td>\n",
              "      <td>7u17w29WWTiftzGHs8rhpw</td>\n",
              "      <td>0.000004</td>\n",
              "      <td>0.1220</td>\n",
              "      <td>-13.886</td>\n",
              "      <td>1</td>\n",
              "      <td>Funny (But I Still Love You)</td>\n",
              "      <td>0.0439</td>\n",
              "      <td>179.031</td>\n",
              "      <td>0.338</td>\n",
              "    </tr>\n",
              "    <tr>\n",
              "      <th>36520</th>\n",
              "      <td>0.958</td>\n",
              "      <td>['John Mayer']</td>\n",
              "      <td>0.496</td>\n",
              "      <td>198200</td>\n",
              "      <td>0.238</td>\n",
              "      <td>78DwRIo6Vj6wqteyerGetr</td>\n",
              "      <td>0.010900</td>\n",
              "      <td>0.0875</td>\n",
              "      <td>-11.026</td>\n",
              "      <td>1</td>\n",
              "      <td>The Heart of Life</td>\n",
              "      <td>0.0301</td>\n",
              "      <td>175.960</td>\n",
              "      <td>0.349</td>\n",
              "    </tr>\n",
              "    <tr>\n",
              "      <th>63870</th>\n",
              "      <td>0.974</td>\n",
              "      <td>['The Kossoy Sisters']</td>\n",
              "      <td>0.449</td>\n",
              "      <td>176467</td>\n",
              "      <td>0.212</td>\n",
              "      <td>2fWVXXNvMNBbqhAiQCdZ2Z</td>\n",
              "      <td>0.000000</td>\n",
              "      <td>0.1150</td>\n",
              "      <td>-9.733</td>\n",
              "      <td>1</td>\n",
              "      <td>Little Birdie</td>\n",
              "      <td>0.0403</td>\n",
              "      <td>182.801</td>\n",
              "      <td>0.334</td>\n",
              "    </tr>\n",
              "    <tr>\n",
              "      <th>65632</th>\n",
              "      <td>0.925</td>\n",
              "      <td>['Odetta']</td>\n",
              "      <td>0.414</td>\n",
              "      <td>311773</td>\n",
              "      <td>0.215</td>\n",
              "      <td>73e4ndrkfGIxqXAWm9PFvx</td>\n",
              "      <td>0.000869</td>\n",
              "      <td>0.1090</td>\n",
              "      <td>-14.850</td>\n",
              "      <td>1</td>\n",
              "      <td>With God On Our Side</td>\n",
              "      <td>0.0500</td>\n",
              "      <td>167.912</td>\n",
              "      <td>0.335</td>\n",
              "    </tr>\n",
              "    <tr>\n",
              "      <th>158571</th>\n",
              "      <td>0.920</td>\n",
              "      <td>['Taylor Swift']</td>\n",
              "      <td>0.463</td>\n",
              "      <td>244000</td>\n",
              "      <td>0.248</td>\n",
              "      <td>6rap8NpGq8LDcVaJWkKFPn</td>\n",
              "      <td>0.000000</td>\n",
              "      <td>0.1130</td>\n",
              "      <td>-12.036</td>\n",
              "      <td>1</td>\n",
              "      <td>champagne problems</td>\n",
              "      <td>0.0374</td>\n",
              "      <td>171.346</td>\n",
              "      <td>0.325</td>\n",
              "    </tr>\n",
              "    <tr>\n",
              "      <th>174387</th>\n",
              "      <td>0.920</td>\n",
              "      <td>['Taylor Swift']</td>\n",
              "      <td>0.462</td>\n",
              "      <td>244000</td>\n",
              "      <td>0.240</td>\n",
              "      <td>1gcyHQpBQ1lfXGdhZmWrHP</td>\n",
              "      <td>0.000000</td>\n",
              "      <td>0.1130</td>\n",
              "      <td>-12.077</td>\n",
              "      <td>1</td>\n",
              "      <td>champagne problems</td>\n",
              "      <td>0.0377</td>\n",
              "      <td>171.319</td>\n",
              "      <td>0.320</td>\n",
              "    </tr>\n",
              "  </tbody>\n",
              "</table>\n",
              "</div>"
            ],
            "text/plain": [
              "        acousticness  ... valence\n",
              "5113           0.939  ...   0.326\n",
              "19922          0.920  ...   0.320\n",
              "20128          0.921  ...   0.320\n",
              "26867          0.905  ...   0.338\n",
              "36520          0.958  ...   0.349\n",
              "63870          0.974  ...   0.334\n",
              "65632          0.925  ...   0.335\n",
              "158571         0.920  ...   0.325\n",
              "174387         0.920  ...   0.320\n",
              "\n",
              "[9 rows x 14 columns]"
            ]
          },
          "metadata": {
            "tags": []
          },
          "execution_count": 56
        }
      ]
    },
    {
      "cell_type": "markdown",
      "metadata": {
        "id": "Hbsmy7ut0qtY"
      },
      "source": [
        "# Now using Spotify API\n",
        "#### Search for keywords in the spotify database for it to output the best matching tracks.\n",
        "#### A predict function which uses FindSimilarSongs and directly outputs the corresponding tracks\n"
      ]
    },
    {
      "cell_type": "code",
      "metadata": {
        "colab": {
          "base_uri": "https://localhost:8080/"
        },
        "id": "T9LBt2Va0wpe",
        "outputId": "26be9480-9c8d-4b85-c254-8b862e1035f0"
      },
      "source": [
        "!pip install spotipy\n",
        "\n",
        "import spotipy\n",
        "from spotipy.oauth2 import SpotifyClientCredentials\n",
        "\n",
        "cid = '1e112a2ea1a645fcba890f76298f0d2a'\n",
        "secret = '9f264ec7484642a38f77ecb85d9bac36'\n",
        "client_credentials_manager = SpotifyClientCredentials(client_id=cid, client_secret=secret)\n",
        "sp = spotipy.Spotify(client_credentials_manager = client_credentials_manager)"
      ],
      "execution_count": null,
      "outputs": [
        {
          "output_type": "stream",
          "text": [
            "Collecting spotipy\n",
            "  Downloading https://files.pythonhosted.org/packages/fb/69/21f1ccc881438bdfa1056ea131b6ac2b1cfbe656cf3676b6167d3cbc4d69/spotipy-2.17.1-py3-none-any.whl\n",
            "Collecting requests>=2.25.0\n",
            "\u001b[?25l  Downloading https://files.pythonhosted.org/packages/29/c1/24814557f1d22c56d50280771a17307e6bf87b70727d975fd6b2ce6b014a/requests-2.25.1-py2.py3-none-any.whl (61kB)\n",
            "\u001b[K     |████████████████████████████████| 61kB 4.8MB/s \n",
            "\u001b[?25hCollecting urllib3>=1.26.0\n",
            "\u001b[?25l  Downloading https://files.pythonhosted.org/packages/09/c6/d3e3abe5b4f4f16cf0dfc9240ab7ce10c2baa0e268989a4e3ec19e90c84e/urllib3-1.26.4-py2.py3-none-any.whl (153kB)\n",
            "\u001b[K     |████████████████████████████████| 153kB 12.8MB/s \n",
            "\u001b[?25hRequirement already satisfied: six>=1.15.0 in /usr/local/lib/python3.7/dist-packages (from spotipy) (1.15.0)\n",
            "Requirement already satisfied: chardet<5,>=3.0.2 in /usr/local/lib/python3.7/dist-packages (from requests>=2.25.0->spotipy) (3.0.4)\n",
            "Requirement already satisfied: idna<3,>=2.5 in /usr/local/lib/python3.7/dist-packages (from requests>=2.25.0->spotipy) (2.10)\n",
            "Requirement already satisfied: certifi>=2017.4.17 in /usr/local/lib/python3.7/dist-packages (from requests>=2.25.0->spotipy) (2020.12.5)\n",
            "\u001b[31mERROR: google-colab 1.0.0 has requirement requests~=2.23.0, but you'll have requests 2.25.1 which is incompatible.\u001b[0m\n",
            "\u001b[31mERROR: datascience 0.10.6 has requirement folium==0.2.1, but you'll have folium 0.8.3 which is incompatible.\u001b[0m\n",
            "Installing collected packages: urllib3, requests, spotipy\n",
            "  Found existing installation: urllib3 1.24.3\n",
            "    Uninstalling urllib3-1.24.3:\n",
            "      Successfully uninstalled urllib3-1.24.3\n",
            "  Found existing installation: requests 2.23.0\n",
            "    Uninstalling requests-2.23.0:\n",
            "      Successfully uninstalled requests-2.23.0\n",
            "Successfully installed requests-2.25.1 spotipy-2.17.1 urllib3-1.26.4\n"
          ],
          "name": "stdout"
        }
      ]
    },
    {
      "cell_type": "code",
      "metadata": {
        "id": "xzpTXDmW8Pj7",
        "colab": {
          "base_uri": "https://localhost:8080/"
        },
        "outputId": "c0604887-9412-4040-a48d-165aecd4c7fc"
      },
      "source": [
        "search = 'call' #search in searchbar \n",
        "def searchInDatabase(search):\n",
        "  output_raw = sp.search(search, limit=10)\n",
        "  output = {'songs':[]}\n",
        "  for i in range(len(output_raw['tracks']['items'])): \n",
        "    if searchbyID(output_raw['tracks']['items'][i]['id']) != -1:\n",
        "      output[\"songs\"].append({'title': output_raw['tracks']['items'][i]['name'],\n",
        "                              'artist':output_raw['tracks']['items'][i]['artists'][0]['name'],\n",
        "                              'id': output_raw['tracks']['items'][i]['id'], \n",
        "                              'image':output_raw['tracks']['items'][i]['album']['images'][0]['url']})\n",
        "  return output\n"
      ],
      "execution_count": null,
      "outputs": [
        {
          "output_type": "execute_result",
          "data": {
            "text/plain": [
              "{'songs': [{'artist': 'The Weeknd',\n",
              "   'id': '09mEdoA6zrmBPgTEN5qXmN',\n",
              "   'image': 'https://i.scdn.co/image/ab67616d0000b2731f6a2a40bb692936879db730',\n",
              "   'title': 'Call Out My Name'},\n",
              "  {'artist': 'Bad Bunny',\n",
              "   'id': '2TH65lNHgvLxCKXM3apjxI',\n",
              "   'image': 'https://i.scdn.co/image/ab67616d0000b2734aef420e62863ebf622c27f5',\n",
              "   'title': 'Callaita'},\n",
              "  {'artist': 'Arctic Monkeys',\n",
              "   'id': '086myS9r57YsLbJpU0TgK9',\n",
              "   'image': 'https://i.scdn.co/image/ab67616d0000b2734ae1c4c5c45aabe565499163',\n",
              "   'title': \"Why'd You Only Call Me When You're High?\"}]}"
            ]
          },
          "metadata": {
            "tags": []
          },
          "execution_count": 8
        }
      ]
    },
    {
      "cell_type": "code",
      "metadata": {
        "id": "tvjCmApi4zZa",
        "colab": {
          "base_uri": "https://localhost:8080/"
        },
        "outputId": "ee39b5ee-74ef-4b77-f755-14196ec052d9"
      },
      "source": [
        "# function that takes an array of song IDs and returns predictions for that ID \n",
        "def predict(songIDs):\n",
        "  tracks = []\n",
        "  similar_IDs = findSimilarSongs(songIDs)\n",
        "  # print(similar_IDs)\n",
        "  # print(sp.track(similar_IDs[0]))\n",
        "  # for ID in similar_IDs:\n",
        "  #  tracks.append(sp.track(ID))\n",
        "  output_raw = sp.tracks(similar_IDs)\n",
        "  output = {'songs':[]}\n",
        "\n",
        "  for i in range(len(output_raw['tracks'])):\n",
        "    output[\"songs\"].append({'title': output_raw['tracks'][i]['name'],'artist': output_raw['tracks'][i]['artists'][0]['name'], 'id': output_raw['tracks'][i]['id'], 'image': output_raw['tracks'][i]['album']['images'][0]['url']})\n",
        "\n",
        "\n",
        "  #for i in range(len(output['tracks']['items'])): \n",
        "  #  print(i)\n",
        "  return output\n",
        "  #return tracks\n",
        "\n",
        "  #from outputed song, return the json format (just song, name etc from above)\n",
        "predict(['0sY6ZUTh4yoctD8VIXz339'])\n"
      ],
      "execution_count": null,
      "outputs": [
        {
          "output_type": "execute_result",
          "data": {
            "text/plain": [
              "{'songs': [{'artist': 'Ethel Merman',\n",
              "   'id': '1SecSXFtyYktKYc0qimTmw',\n",
              "   'image': 'https://i.scdn.co/image/ab67616d0000b2734eb4133627a0474424266142',\n",
              "   'title': 'Moonshine Lullaby'},\n",
              "  {'artist': 'Taylor Swift',\n",
              "   'id': '0sY6ZUTh4yoctD8VIXz339',\n",
              "   'image': 'https://i.scdn.co/image/ab67616d0000b27333b8541201f1ef38941024be',\n",
              "   'title': 'champagne problems'},\n",
              "  {'artist': 'Taylor Swift',\n",
              "   'id': '2EliNOReCRCe1ynR6G8yeT',\n",
              "   'image': 'https://i.scdn.co/image/ab67616d0000b2731b5c73a284593a6e226f9d72',\n",
              "   'title': 'champagne problems'},\n",
              "  {'artist': 'Ray Charles',\n",
              "   'id': '7u17w29WWTiftzGHs8rhpw',\n",
              "   'image': 'https://i.scdn.co/image/ab67616d0000b273f0e951707ca49b533fdbf64e',\n",
              "   'title': 'Funny (But I Still Love You)'},\n",
              "  {'artist': 'John Mayer',\n",
              "   'id': '78DwRIo6Vj6wqteyerGetr',\n",
              "   'image': 'https://i.scdn.co/image/ab67616d0000b2737af5fdc5ef048a68db62b85f',\n",
              "   'title': 'The Heart of Life'},\n",
              "  {'artist': 'The Kossoy Sisters',\n",
              "   'id': '2fWVXXNvMNBbqhAiQCdZ2Z',\n",
              "   'image': 'https://i.scdn.co/image/ab67616d0000b273016d83c7f240423631364732',\n",
              "   'title': 'Little Birdie'},\n",
              "  {'artist': 'Odetta',\n",
              "   'id': '73e4ndrkfGIxqXAWm9PFvx',\n",
              "   'image': 'https://i.scdn.co/image/ab67616d0000b27391a9e5832ceb532fe57bb459',\n",
              "   'title': 'With God On Our Side'},\n",
              "  {'artist': 'Taylor Swift',\n",
              "   'id': '6rap8NpGq8LDcVaJWkKFPn',\n",
              "   'image': 'https://i.scdn.co/image/ab67616d0000b27325751b4b32829d6bbfe6be7f',\n",
              "   'title': 'champagne problems'},\n",
              "  {'artist': 'Taylor Swift',\n",
              "   'id': '1gcyHQpBQ1lfXGdhZmWrHP',\n",
              "   'image': 'https://i.scdn.co/image/ab67616d0000b27390fd9741e1838115cd90b3b6',\n",
              "   'title': 'champagne problems'}]}"
            ]
          },
          "metadata": {
            "tags": []
          },
          "execution_count": 41
        }
      ]
    },
    {
      "cell_type": "code",
      "metadata": {
        "id": "WanECvK78OOp"
      },
      "source": [
        ""
      ],
      "execution_count": null,
      "outputs": []
    }
  ]
}