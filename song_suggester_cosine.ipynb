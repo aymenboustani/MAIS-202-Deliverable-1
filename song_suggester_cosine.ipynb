{
  "nbformat": 4,
  "nbformat_minor": 0,
  "metadata": {
    "colab": {
      "name": "song_suggester_cosine.ipynb",
      "provenance": [],
      "collapsed_sections": []
    },
    "kernelspec": {
      "name": "python3",
      "display_name": "Python 3"
    },
    "language_info": {
      "name": "python"
    }
  },
  "cells": [
    {
      "cell_type": "markdown",
      "metadata": {
        "id": "o_npGkQ2CaNy"
      },
      "source": [
        "##Spotify song suggester"
      ]
    },
    {
      "cell_type": "code",
      "metadata": {
        "id": "kqDwrK5fsnOM"
      },
      "source": [
        ""
      ],
      "execution_count": 58,
      "outputs": []
    },
    {
      "cell_type": "markdown",
      "metadata": {
        "id": "51gXtr4qbMrv"
      },
      "source": [
        "# **IMPORTS**"
      ]
    },
    {
      "cell_type": "code",
      "metadata": {
        "id": "EOa6RP56CVRH"
      },
      "source": [
        "#importing packages\n",
        "import pandas as pd\n",
        "import numpy as np\n",
        "from sklearn import preprocessing as pre\n",
        "from sklearn.metrics.pairwise import cosine_similarity as cs"
      ],
      "execution_count": 59,
      "outputs": []
    },
    {
      "cell_type": "code",
      "metadata": {
        "id": "gaxVYPUaCtKk"
      },
      "source": [
        "#importing files\n",
        "full_data = pd.read_csv(\"https://raw.githubusercontent.com/aymenboustani/MAIS-202-Deliverable-1/main/data/data.csv\")\n",
        "metadata = pd.DataFrame({'popularity': full_data['popularity'], 'id': full_data[\"id\"], \n",
        "                         'release_date': full_data[\"release_date\"], 'year': full_data[\"year\"], \n",
        "                         'explicit': full_data[\"explicit\"],'song_title': full_data[\"name\"].str.lower()})\n",
        "full_data = full_data.drop(columns = ['key', 'release_date','popularity','year','explicit'])"
      ],
      "execution_count": 60,
      "outputs": []
    },
    {
      "cell_type": "code",
      "metadata": {
        "colab": {
          "base_uri": "https://localhost:8080/",
          "height": 590
        },
        "id": "OYq5ZzyVDJZL",
        "outputId": "1a4a947f-3c12-4a15-9a83-c768be7d8d32"
      },
      "source": [
        "full_data"
      ],
      "execution_count": 61,
      "outputs": [
        {
          "output_type": "execute_result",
          "data": {
            "text/html": [
              "<div>\n",
              "<style scoped>\n",
              "    .dataframe tbody tr th:only-of-type {\n",
              "        vertical-align: middle;\n",
              "    }\n",
              "\n",
              "    .dataframe tbody tr th {\n",
              "        vertical-align: top;\n",
              "    }\n",
              "\n",
              "    .dataframe thead th {\n",
              "        text-align: right;\n",
              "    }\n",
              "</style>\n",
              "<table border=\"1\" class=\"dataframe\">\n",
              "  <thead>\n",
              "    <tr style=\"text-align: right;\">\n",
              "      <th></th>\n",
              "      <th>acousticness</th>\n",
              "      <th>artists</th>\n",
              "      <th>danceability</th>\n",
              "      <th>duration_ms</th>\n",
              "      <th>energy</th>\n",
              "      <th>id</th>\n",
              "      <th>instrumentalness</th>\n",
              "      <th>liveness</th>\n",
              "      <th>loudness</th>\n",
              "      <th>mode</th>\n",
              "      <th>name</th>\n",
              "      <th>speechiness</th>\n",
              "      <th>tempo</th>\n",
              "      <th>valence</th>\n",
              "    </tr>\n",
              "  </thead>\n",
              "  <tbody>\n",
              "    <tr>\n",
              "      <th>0</th>\n",
              "      <td>0.991000</td>\n",
              "      <td>['Mamie Smith']</td>\n",
              "      <td>0.598</td>\n",
              "      <td>168333</td>\n",
              "      <td>0.224</td>\n",
              "      <td>0cS0A1fUEUd1EW3FcF8AEI</td>\n",
              "      <td>0.000522</td>\n",
              "      <td>0.3790</td>\n",
              "      <td>-12.628</td>\n",
              "      <td>0</td>\n",
              "      <td>Keep A Song In Your Soul</td>\n",
              "      <td>0.0936</td>\n",
              "      <td>149.976</td>\n",
              "      <td>0.6340</td>\n",
              "    </tr>\n",
              "    <tr>\n",
              "      <th>1</th>\n",
              "      <td>0.643000</td>\n",
              "      <td>[\"Screamin' Jay Hawkins\"]</td>\n",
              "      <td>0.852</td>\n",
              "      <td>150200</td>\n",
              "      <td>0.517</td>\n",
              "      <td>0hbkKFIJm7Z05H8Zl9w30f</td>\n",
              "      <td>0.026400</td>\n",
              "      <td>0.0809</td>\n",
              "      <td>-7.261</td>\n",
              "      <td>0</td>\n",
              "      <td>I Put A Spell On You</td>\n",
              "      <td>0.0534</td>\n",
              "      <td>86.889</td>\n",
              "      <td>0.9500</td>\n",
              "    </tr>\n",
              "    <tr>\n",
              "      <th>2</th>\n",
              "      <td>0.993000</td>\n",
              "      <td>['Mamie Smith']</td>\n",
              "      <td>0.647</td>\n",
              "      <td>163827</td>\n",
              "      <td>0.186</td>\n",
              "      <td>11m7laMUgmOKqI3oYzuhne</td>\n",
              "      <td>0.000018</td>\n",
              "      <td>0.5190</td>\n",
              "      <td>-12.098</td>\n",
              "      <td>1</td>\n",
              "      <td>Golfing Papa</td>\n",
              "      <td>0.1740</td>\n",
              "      <td>97.600</td>\n",
              "      <td>0.6890</td>\n",
              "    </tr>\n",
              "    <tr>\n",
              "      <th>3</th>\n",
              "      <td>0.000173</td>\n",
              "      <td>['Oscar Velazquez']</td>\n",
              "      <td>0.730</td>\n",
              "      <td>422087</td>\n",
              "      <td>0.798</td>\n",
              "      <td>19Lc5SfJJ5O1oaxY0fpwfh</td>\n",
              "      <td>0.801000</td>\n",
              "      <td>0.1280</td>\n",
              "      <td>-7.311</td>\n",
              "      <td>1</td>\n",
              "      <td>True House Music - Xavier Santos &amp; Carlos Gomi...</td>\n",
              "      <td>0.0425</td>\n",
              "      <td>127.997</td>\n",
              "      <td>0.0422</td>\n",
              "    </tr>\n",
              "    <tr>\n",
              "      <th>4</th>\n",
              "      <td>0.295000</td>\n",
              "      <td>['Mixe']</td>\n",
              "      <td>0.704</td>\n",
              "      <td>165224</td>\n",
              "      <td>0.707</td>\n",
              "      <td>2hJjbsLCytGsnAHfdsLejp</td>\n",
              "      <td>0.000246</td>\n",
              "      <td>0.4020</td>\n",
              "      <td>-6.036</td>\n",
              "      <td>0</td>\n",
              "      <td>Xuniverxe</td>\n",
              "      <td>0.0768</td>\n",
              "      <td>122.076</td>\n",
              "      <td>0.2990</td>\n",
              "    </tr>\n",
              "    <tr>\n",
              "      <th>...</th>\n",
              "      <td>...</td>\n",
              "      <td>...</td>\n",
              "      <td>...</td>\n",
              "      <td>...</td>\n",
              "      <td>...</td>\n",
              "      <td>...</td>\n",
              "      <td>...</td>\n",
              "      <td>...</td>\n",
              "      <td>...</td>\n",
              "      <td>...</td>\n",
              "      <td>...</td>\n",
              "      <td>...</td>\n",
              "      <td>...</td>\n",
              "      <td>...</td>\n",
              "    </tr>\n",
              "    <tr>\n",
              "      <th>174384</th>\n",
              "      <td>0.009170</td>\n",
              "      <td>['DJ Combo', 'Sander-7', 'Tony T']</td>\n",
              "      <td>0.792</td>\n",
              "      <td>147615</td>\n",
              "      <td>0.866</td>\n",
              "      <td>46LhBf6TvYjZU2SMvGZAbn</td>\n",
              "      <td>0.000060</td>\n",
              "      <td>0.1780</td>\n",
              "      <td>-5.089</td>\n",
              "      <td>0</td>\n",
              "      <td>The One</td>\n",
              "      <td>0.0356</td>\n",
              "      <td>125.972</td>\n",
              "      <td>0.1860</td>\n",
              "    </tr>\n",
              "    <tr>\n",
              "      <th>174385</th>\n",
              "      <td>0.795000</td>\n",
              "      <td>['Alessia Cara']</td>\n",
              "      <td>0.429</td>\n",
              "      <td>144720</td>\n",
              "      <td>0.211</td>\n",
              "      <td>7tue2Wemjd0FZzRtDrQFZd</td>\n",
              "      <td>0.000000</td>\n",
              "      <td>0.1960</td>\n",
              "      <td>-11.665</td>\n",
              "      <td>1</td>\n",
              "      <td>A Little More</td>\n",
              "      <td>0.0360</td>\n",
              "      <td>94.710</td>\n",
              "      <td>0.2280</td>\n",
              "    </tr>\n",
              "    <tr>\n",
              "      <th>174386</th>\n",
              "      <td>0.806000</td>\n",
              "      <td>['Roger Fly']</td>\n",
              "      <td>0.671</td>\n",
              "      <td>218147</td>\n",
              "      <td>0.589</td>\n",
              "      <td>48Qj61hOdYmUCFJbpQ29Ob</td>\n",
              "      <td>0.920000</td>\n",
              "      <td>0.1130</td>\n",
              "      <td>-12.393</td>\n",
              "      <td>0</td>\n",
              "      <td>Together</td>\n",
              "      <td>0.0282</td>\n",
              "      <td>108.058</td>\n",
              "      <td>0.7140</td>\n",
              "    </tr>\n",
              "    <tr>\n",
              "      <th>174387</th>\n",
              "      <td>0.920000</td>\n",
              "      <td>['Taylor Swift']</td>\n",
              "      <td>0.462</td>\n",
              "      <td>244000</td>\n",
              "      <td>0.240</td>\n",
              "      <td>1gcyHQpBQ1lfXGdhZmWrHP</td>\n",
              "      <td>0.000000</td>\n",
              "      <td>0.1130</td>\n",
              "      <td>-12.077</td>\n",
              "      <td>1</td>\n",
              "      <td>champagne problems</td>\n",
              "      <td>0.0377</td>\n",
              "      <td>171.319</td>\n",
              "      <td>0.3200</td>\n",
              "    </tr>\n",
              "    <tr>\n",
              "      <th>174388</th>\n",
              "      <td>0.239000</td>\n",
              "      <td>['Roger Fly']</td>\n",
              "      <td>0.677</td>\n",
              "      <td>197710</td>\n",
              "      <td>0.460</td>\n",
              "      <td>57tgYkWQTNHVFEt6xDKKZj</td>\n",
              "      <td>0.891000</td>\n",
              "      <td>0.2150</td>\n",
              "      <td>-12.237</td>\n",
              "      <td>1</td>\n",
              "      <td>Improvisations</td>\n",
              "      <td>0.0258</td>\n",
              "      <td>112.208</td>\n",
              "      <td>0.7470</td>\n",
              "    </tr>\n",
              "  </tbody>\n",
              "</table>\n",
              "<p>174389 rows × 14 columns</p>\n",
              "</div>"
            ],
            "text/plain": [
              "        acousticness                             artists  ...    tempo  valence\n",
              "0           0.991000                     ['Mamie Smith']  ...  149.976   0.6340\n",
              "1           0.643000           [\"Screamin' Jay Hawkins\"]  ...   86.889   0.9500\n",
              "2           0.993000                     ['Mamie Smith']  ...   97.600   0.6890\n",
              "3           0.000173                 ['Oscar Velazquez']  ...  127.997   0.0422\n",
              "4           0.295000                            ['Mixe']  ...  122.076   0.2990\n",
              "...              ...                                 ...  ...      ...      ...\n",
              "174384      0.009170  ['DJ Combo', 'Sander-7', 'Tony T']  ...  125.972   0.1860\n",
              "174385      0.795000                    ['Alessia Cara']  ...   94.710   0.2280\n",
              "174386      0.806000                       ['Roger Fly']  ...  108.058   0.7140\n",
              "174387      0.920000                    ['Taylor Swift']  ...  171.319   0.3200\n",
              "174388      0.239000                       ['Roger Fly']  ...  112.208   0.7470\n",
              "\n",
              "[174389 rows x 14 columns]"
            ]
          },
          "metadata": {
            "tags": []
          },
          "execution_count": 61
        }
      ]
    },
    {
      "cell_type": "markdown",
      "metadata": {
        "id": "dYrnazj8bG3W"
      },
      "source": [
        "# **PREPROCESSING**"
      ]
    },
    {
      "cell_type": "code",
      "metadata": {
        "colab": {
          "base_uri": "https://localhost:8080/"
        },
        "id": "EMiJ7nqQEHhZ",
        "outputId": "98743f29-a982-4e4c-9482-8fe0f1892172"
      },
      "source": [
        "songset = full_data.copy()\n",
        "songset = songset.drop(columns=['artists','name'])\n",
        "songset = songset[['id','acousticness','danceability','duration_ms','energy','instrumentalness','liveness','loudness','mode','speechiness','tempo','valence']]\n",
        "songset.iloc[:,1:]\n",
        "x = pre.MinMaxScaler().fit_transform(songset.iloc[:,1:])\n",
        "x"
      ],
      "execution_count": 62,
      "outputs": [
        {
          "output_type": "execute_result",
          "data": {
            "text/plain": [
              "array([[0.99497992, 0.60526316, 0.03063657, ..., 0.09639547, 0.61590016,\n",
              "        0.634     ],\n",
              "       [0.64558233, 0.86234818, 0.02723665, ..., 0.05499485, 0.35682342,\n",
              "        0.95      ],\n",
              "       [0.99698795, 0.6548583 , 0.0297917 , ..., 0.1791967 , 0.40080983,\n",
              "        0.689     ],\n",
              "       ...,\n",
              "       [0.80923695, 0.6791498 , 0.03997664, ..., 0.02904222, 0.44375726,\n",
              "        0.714     ],\n",
              "       [0.92369478, 0.46761134, 0.04482405, ..., 0.03882595, 0.70354856,\n",
              "        0.32      ],\n",
              "       [0.23995984, 0.68522267, 0.03614472, ..., 0.02657055, 0.46079989,\n",
              "        0.747     ]])"
            ]
          },
          "metadata": {
            "tags": []
          },
          "execution_count": 62
        }
      ]
    },
    {
      "cell_type": "markdown",
      "metadata": {
        "id": "Ei-qJ5NPbYjf"
      },
      "source": [
        "# **COSINE SIMILARITY**\n"
      ]
    },
    {
      "cell_type": "code",
      "metadata": {
        "colab": {
          "base_uri": "https://localhost:8080/"
        },
        "id": "krPWqkdMIgzK",
        "outputId": "bd16dd6c-27f4-4e0a-a597-67484f76d185"
      },
      "source": [
        "input_id = '1gcyHQpBQ1lfXGdhZmWrHP'\n",
        "\n",
        "def searchbyID(ID):\n",
        "  for i in range(len(full_data)):\n",
        "    #print(full_data.iloc[20128,5])\n",
        "    if full_data.iloc[i,5] == ID:\n",
        "      return i\n",
        "  return -1\n",
        "\n",
        "#meanvector =  x[-2] #champagne problems taylor swift\n",
        "meanvector =  x[searchbyID(input_id)] # use this if using the first line; depending on song ID \n",
        "meanvector = np.array(meanvector).reshape(1,-1)\n",
        "\n",
        "\n",
        "\n",
        "similarity_vals = cs(x, meanvector)\n",
        "\n",
        "common = []\n",
        "for i in range(len(similarity_vals)):\n",
        "  if similarity_vals[i] > 0.999: #similarity bigger than 0.999 \n",
        "    common.append(i)\n",
        "print(common)"
      ],
      "execution_count": 63,
      "outputs": [
        {
          "output_type": "stream",
          "text": [
            "[5113, 19922, 20128, 26867, 36520, 63870, 65632, 158571, 174387]\n"
          ],
          "name": "stdout"
        }
      ]
    },
    {
      "cell_type": "code",
      "metadata": {
        "colab": {
          "base_uri": "https://localhost:8080/",
          "height": 394
        },
        "id": "f3S_aUuuOfI9",
        "outputId": "c28fc2b9-8d79-4a2b-a6b4-079ef5db3be5"
      },
      "source": [
        "full_data.iloc[common]\n",
        "full_data.iloc[common].drop_duplicates('name')"
      ],
      "execution_count": 66,
      "outputs": [
        {
          "output_type": "execute_result",
          "data": {
            "text/html": [
              "<div>\n",
              "<style scoped>\n",
              "    .dataframe tbody tr th:only-of-type {\n",
              "        vertical-align: middle;\n",
              "    }\n",
              "\n",
              "    .dataframe tbody tr th {\n",
              "        vertical-align: top;\n",
              "    }\n",
              "\n",
              "    .dataframe thead th {\n",
              "        text-align: right;\n",
              "    }\n",
              "</style>\n",
              "<table border=\"1\" class=\"dataframe\">\n",
              "  <thead>\n",
              "    <tr style=\"text-align: right;\">\n",
              "      <th></th>\n",
              "      <th>acousticness</th>\n",
              "      <th>artists</th>\n",
              "      <th>danceability</th>\n",
              "      <th>duration_ms</th>\n",
              "      <th>energy</th>\n",
              "      <th>id</th>\n",
              "      <th>instrumentalness</th>\n",
              "      <th>liveness</th>\n",
              "      <th>loudness</th>\n",
              "      <th>mode</th>\n",
              "      <th>name</th>\n",
              "      <th>speechiness</th>\n",
              "      <th>tempo</th>\n",
              "      <th>valence</th>\n",
              "    </tr>\n",
              "  </thead>\n",
              "  <tbody>\n",
              "    <tr>\n",
              "      <th>5113</th>\n",
              "      <td>0.939</td>\n",
              "      <td>['Ethel Merman', 'Robert Middleton', 'Marty Ma...</td>\n",
              "      <td>0.418</td>\n",
              "      <td>194400</td>\n",
              "      <td>0.225</td>\n",
              "      <td>1SecSXFtyYktKYc0qimTmw</td>\n",
              "      <td>0.000000</td>\n",
              "      <td>0.1380</td>\n",
              "      <td>-11.651</td>\n",
              "      <td>1</td>\n",
              "      <td>Moonshine Lullaby</td>\n",
              "      <td>0.0587</td>\n",
              "      <td>168.349</td>\n",
              "      <td>0.326</td>\n",
              "    </tr>\n",
              "    <tr>\n",
              "      <th>19922</th>\n",
              "      <td>0.920</td>\n",
              "      <td>['Taylor Swift']</td>\n",
              "      <td>0.462</td>\n",
              "      <td>244000</td>\n",
              "      <td>0.240</td>\n",
              "      <td>0sY6ZUTh4yoctD8VIXz339</td>\n",
              "      <td>0.000000</td>\n",
              "      <td>0.1130</td>\n",
              "      <td>-12.077</td>\n",
              "      <td>1</td>\n",
              "      <td>champagne problems</td>\n",
              "      <td>0.0377</td>\n",
              "      <td>171.319</td>\n",
              "      <td>0.320</td>\n",
              "    </tr>\n",
              "    <tr>\n",
              "      <th>26867</th>\n",
              "      <td>0.905</td>\n",
              "      <td>['Ray Charles']</td>\n",
              "      <td>0.483</td>\n",
              "      <td>197173</td>\n",
              "      <td>0.187</td>\n",
              "      <td>7u17w29WWTiftzGHs8rhpw</td>\n",
              "      <td>0.000004</td>\n",
              "      <td>0.1220</td>\n",
              "      <td>-13.886</td>\n",
              "      <td>1</td>\n",
              "      <td>Funny (But I Still Love You)</td>\n",
              "      <td>0.0439</td>\n",
              "      <td>179.031</td>\n",
              "      <td>0.338</td>\n",
              "    </tr>\n",
              "    <tr>\n",
              "      <th>36520</th>\n",
              "      <td>0.958</td>\n",
              "      <td>['John Mayer']</td>\n",
              "      <td>0.496</td>\n",
              "      <td>198200</td>\n",
              "      <td>0.238</td>\n",
              "      <td>78DwRIo6Vj6wqteyerGetr</td>\n",
              "      <td>0.010900</td>\n",
              "      <td>0.0875</td>\n",
              "      <td>-11.026</td>\n",
              "      <td>1</td>\n",
              "      <td>The Heart of Life</td>\n",
              "      <td>0.0301</td>\n",
              "      <td>175.960</td>\n",
              "      <td>0.349</td>\n",
              "    </tr>\n",
              "    <tr>\n",
              "      <th>63870</th>\n",
              "      <td>0.974</td>\n",
              "      <td>['The Kossoy Sisters']</td>\n",
              "      <td>0.449</td>\n",
              "      <td>176467</td>\n",
              "      <td>0.212</td>\n",
              "      <td>2fWVXXNvMNBbqhAiQCdZ2Z</td>\n",
              "      <td>0.000000</td>\n",
              "      <td>0.1150</td>\n",
              "      <td>-9.733</td>\n",
              "      <td>1</td>\n",
              "      <td>Little Birdie</td>\n",
              "      <td>0.0403</td>\n",
              "      <td>182.801</td>\n",
              "      <td>0.334</td>\n",
              "    </tr>\n",
              "    <tr>\n",
              "      <th>65632</th>\n",
              "      <td>0.925</td>\n",
              "      <td>['Odetta']</td>\n",
              "      <td>0.414</td>\n",
              "      <td>311773</td>\n",
              "      <td>0.215</td>\n",
              "      <td>73e4ndrkfGIxqXAWm9PFvx</td>\n",
              "      <td>0.000869</td>\n",
              "      <td>0.1090</td>\n",
              "      <td>-14.850</td>\n",
              "      <td>1</td>\n",
              "      <td>With God On Our Side</td>\n",
              "      <td>0.0500</td>\n",
              "      <td>167.912</td>\n",
              "      <td>0.335</td>\n",
              "    </tr>\n",
              "  </tbody>\n",
              "</table>\n",
              "</div>"
            ],
            "text/plain": [
              "       acousticness  ... valence\n",
              "5113          0.939  ...   0.326\n",
              "19922         0.920  ...   0.320\n",
              "26867         0.905  ...   0.338\n",
              "36520         0.958  ...   0.349\n",
              "63870         0.974  ...   0.334\n",
              "65632         0.925  ...   0.335\n",
              "\n",
              "[6 rows x 14 columns]"
            ]
          },
          "metadata": {
            "tags": []
          },
          "execution_count": 66
        }
      ]
    },
    {
      "cell_type": "code",
      "metadata": {
        "id": "6DsGiXQMj9PX"
      },
      "source": [
        ""
      ],
      "execution_count": 64,
      "outputs": []
    },
    {
      "cell_type": "markdown",
      "metadata": {
        "id": "jPxGe_hSe5Lg"
      },
      "source": [
        "# **Additional helpers**\n"
      ]
    },
    {
      "cell_type": "code",
      "metadata": {
        "id": "vDBQtck-DnI_"
      },
      "source": [
        "# additional helpers we will need to deal with spotify API\n",
        "\n",
        "\n",
        "\n",
        "\n",
        "#input an ID and it returns the index of corresponding song in the dataset\n",
        "def searchbyID(ID):\n",
        "  for i in range(len(full_data)):\n",
        "    #print(full_data.iloc[20128,5])\n",
        "    if full_data.iloc[i,5] == ID:\n",
        "      return i\n",
        "  return -1\n",
        "\n",
        "\n",
        "pack = []\n",
        "for i in range(len(similarity_vals)):\n",
        "  pack.append((similarity_vals[i][0],full_data.iloc[i,5]))\n",
        "pack.sort(key = lambda x: x[0])\n",
        "\n",
        "\n",
        "  \n",
        "\n",
        "\n"
      ],
      "execution_count": 65,
      "outputs": []
    }
  ]
}